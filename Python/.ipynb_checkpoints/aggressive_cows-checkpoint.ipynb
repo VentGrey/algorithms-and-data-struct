{
 "cells": [
  {
   "cell_type": "markdown",
   "metadata": {},
   "source": [
    "# Aggressive Cows\n",
    "\n",
    "### Problema de SPOJ que utiliza un _greedy algorithm_\n",
    "\n",
    "link: https://www.spoj.com/problems/AGGRCOW/\n",
    "\n",
    "**Enunciado:**\n",
    "\n",
    "El granjero John construyó un establo con $ N $ $ (2 \\leq N \\leq 100,000) $ casetas sobre una línea recta en las posiciones $ x_1,...,x_N $ $ (0 \\leq x_i \\leq 1,000,000,000) $.\n",
    "\n",
    "Sus $ C $ $ (2 \\leq C \\leq N) $ vacas no están contentas con el establo y se han vuelto agresivas entre ellas en cuanto se les coloca en una caseta. Para evitar que las vacas se hagan daño las unas a las otras, John quiere acomodarlas de manera que la mínima distancia entre ellas sea lo más grande posible. ¿Cuál es la máxima distancia mínima?"
   ]
  },
  {
   "cell_type": "markdown",
   "metadata": {},
   "source": [
    "# Búsqueda binaria\n",
    "\n",
    "Primero, algunas definiciones.\n",
    "\n",
    "__*Espacio de búsqueda $S$.*__ Es el conjunto de los candidatos a solución del problema.\n",
    "\n",
    "__*Predicado $P(S)$.*__ Función que asigna un booleano a cada elemento del espacio de búsqueda. Usamos el predicado para verificar si un candidato a solución no viola ninguna restricción ddel problema.\n",
    "\n",
    "__*Teorema central.*__ La búsqueda binaria puede ser utilizada en un problema $ \\iff \\forall x \\epsilon S(P(x) \\implies P(y) \\forall y > x) $\n",
    "\n",
    "Lo que quiere decir el teorema central es que, para poder usar la búsqueda binaria, evaluar $P$ en todo $S$ debe devolver una secuencia de 'No's seguida de una secuencia de 'Sí's. El espacio de solución, entonces, de cumplir con algún tipo de orden. Esto es fácil cuando $S$ es solo números, pero en ocasiones es algo más complicado.\n",
    "\n",
    "Una vez que te aseguras de que tu problema cumple las condiciones del teorema, la *búsqueda binaria* encontrará la mínima $x$ para la cual $P(x) = Sí$.\n",
    "\n",
    "Bajo la observación de que $ P(x) \\implies P(y) \\forall y > x $ es equivalente a $ \\neg P(x) \\implies \\neg P(y) \\forall y < x $, podemos adaptar la búsqueda binaria para problemas en los que evaluar $P$ en todo $S$ devuelve una secuencia de 'Sí's seguida de una secuencia de 'No's.\n",
    "\n",
    "#### Fuente: Tutorial de TopCoder\n",
    "link: https://www.topcoder.com/community/competitive-programming/tutorials/binary-search"
   ]
  },
  {
   "cell_type": "markdown",
   "metadata": {},
   "source": [
    "**Análisis:**\n",
    "\n",
    "Supongamos que tenemos una distancia mínima fija, que llamaremos $ MIN $ y queremos calcular la máxima cantidad de vacas que podemos colocar tal que la distancia entre ellas no sea menor que $ MIN $. Esto es fácil de hacer: ponemos una vaca en la primera caseta y luego una más en la caseta más cercana que no esté a una distancia menor que $ MIN $ y así sucesivamente. El número de vacas que podemos acomodar de esta forma es inversamente proporcional a $ MIN $.\n",
    "\n",
    "Ahora, lo que nos pide el problema es la máxima $ MIN $ tal que podamos acomodar la $ C $ vacas que nos dan. El predicado para la implementación de la búsqueda binaria es:\n",
    "\n",
    "_¿Podemos acomodar la $ C $ vacas en el establo de manera que la distancia entre ellas nunca sea menor que $ x $?_\n",
    "\n",
    "Si la respuesta es _no_ para una cierta $ x $, entonces será _no_ para cualquier otro número mayor que $ x $. La solución al problema es encontrar la última de las $ x $ que devuelven un _sí_."
   ]
  },
  {
   "cell_type": "markdown",
   "metadata": {},
   "source": [
    "**Implementación:**"
   ]
  },
  {
   "cell_type": "code",
   "execution_count": 2,
   "metadata": {},
   "outputs": [],
   "source": [
    "# Esta la función que encuentra la respuesta a cada caso\n",
    "\n",
    "def get_min_dist(locations, cows):\n",
    "    locations.sort()\n",
    "    n = len(locations)\n",
    "    lo = locations[1] - locations[0] # Distancia minima entre casetas\n",
    "    hi = locations[n - 1] - locations[0] # Distancia maxima entre casetas\n",
    "    \n",
    "    while lo + 1 < hi:\n",
    "        x = lo + (hi - lo) // 2\n",
    "        alloc_cows = 1\n",
    "        current_loc = locations[0]\n",
    "        \n",
    "        for i in range(1, len(locations)):\n",
    "            if locations[i] - current_loc >= x:\n",
    "                # Puedo poner vaca\n",
    "                alloc_cows += 1\n",
    "                current_loc = locations[i]\n",
    "\n",
    "        if alloc_cows >= cows:\n",
    "            lo = x\n",
    "        else:\n",
    "            hi = x - 1\n",
    "\n",
    "    return hi"
   ]
  },
  {
   "cell_type": "code",
   "execution_count": 3,
   "metadata": {},
   "outputs": [
    {
     "name": "stdout",
     "output_type": "stream",
     "text": [
      "3\n"
     ]
    }
   ],
   "source": [
    "# Prueba con el ejemplo de la página\n",
    "\n",
    "a = [1, 2, 8, 4, 9]\n",
    "print(get_min_dist(a, 3))"
   ]
  }
 ],
 "metadata": {
  "kernelspec": {
   "display_name": "Python 3",
   "language": "python",
   "name": "python3"
  },
  "language_info": {
   "codemirror_mode": {
    "name": "ipython",
    "version": 3
   },
   "file_extension": ".py",
   "mimetype": "text/x-python",
   "name": "python",
   "nbconvert_exporter": "python",
   "pygments_lexer": "ipython3",
   "version": "3.7.3"
  }
 },
 "nbformat": 4,
 "nbformat_minor": 2
}
